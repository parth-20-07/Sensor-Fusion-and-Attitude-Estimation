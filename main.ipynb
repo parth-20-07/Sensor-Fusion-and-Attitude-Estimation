{
 "cells": [
  {
   "cell_type": "code",
   "execution_count": 85,
   "metadata": {},
   "outputs": [],
   "source": [
    "from scipy import io\n",
    "import pprint\n",
    "import numpy as np"
   ]
  },
  {
   "cell_type": "code",
   "execution_count": 86,
   "metadata": {},
   "outputs": [],
   "source": [
    "class calculatePose:\n",
    "    def __init__(self, viconDataPath: str, imuDataPath: str, imuParamPath: str) -> None:\n",
    "        viconDataLoader = io.loadmat(viconDataPath)\n",
    "        self.viconTS = viconDataLoader[\"ts\"]\n",
    "        self.viconData = viconDataLoader[\"rots\"]  # Rotation Matrix with Z-Y-X Euler Angles Rotation\n",
    "\n",
    "        imuDataLoader = io.loadmat(imuDataPath)\n",
    "        self.IMUTS = imuDataLoader[\"ts\"]\n",
    "        pprint.pprint(self.IMUTS)\n",
    "        self.IMUData = imuDataLoader[\"vals\"] # [ax ay az wz wx wy]^T\n",
    "        # pprint.pprint(self.IMUData)\n",
    "\n",
    "        imuParamLoader = io.loadmat(imuParamPath)\n",
    "        imuParams = imuParamLoader[\"IMUParams\"]\n",
    "        scaleParams, biasParams = imuParams\n",
    "\n",
    "        sx, sy, sz = scaleParams\n",
    "        bax, bay, baz = biasParams\n",
    "\n",
    "        wxTotal = 0\n",
    "        wyTotal = 0\n",
    "        wzTotal = 0\n",
    "        totalIterations = 300\n",
    "        for i in range(totalIterations):\n",
    "            imuData = [\n",
    "                self.IMUData[3, i],\n",
    "                self.IMUData[4, i],\n",
    "                self.IMUData[5, i],\n",
    "            ]\n",
    "            wz, wx, wy = imuData\n",
    "            wxTotal += wx\n",
    "            wyTotal += wy\n",
    "            wzTotal += wz\n",
    "        bgx = wxTotal / totalIterations\n",
    "        bgy = wyTotal / totalIterations\n",
    "        bgz = wzTotal / totalIterations\n",
    "\n",
    "        metricIMUData = self.convertRawValuesToSIUnits(\n",
    "            bax, bay, baz, sx, sy, sz, bgx, bgy, bgz\n",
    "        )\n",
    "        pprint.pprint(metricIMUData[0])\n",
    "\n",
    "    def convertRawValuesToSIUnits(self, bax, bay, baz, sx, sy, sz, bgx, bgy, bgz):\n",
    "        adjustedIMUData = np.zeros(\n",
    "            (len(self.IMUData[0]), 6), dtype=float\n",
    "        )  # t,ax,zy,az, wx,wy,wz\n",
    "        for i in range(len(self.IMUData[0])):\n",
    "            imuData = [\n",
    "                self.IMUData[0, i],\n",
    "                self.IMUData[1, i],\n",
    "                self.IMUData[2, i],\n",
    "                self.IMUData[3, i],\n",
    "                self.IMUData[4, i],\n",
    "                self.IMUData[5, i],\n",
    "            ]\n",
    "            # pprint.pprint(imuData)\n",
    "            ax, ay, az, wz, wx, wy = imuData\n",
    "            tilde_ax = (ax + bax) / sx\n",
    "            tilde_ay = (ay + bay) / sy\n",
    "            tilde_az = (az + baz) / sz\n",
    "\n",
    "            tilde_wx = (3300 / 1023) * (np.pi / 180) * 0.3 * (wx - bgx)\n",
    "            tilde_wy = (3300 / 1023) * (np.pi / 180) * 0.3 * (wy - bgx)\n",
    "            tilde_wz = (3300 / 1023) * (np.pi / 180) * 0.3 * (wz - bgx)\n",
    "\n",
    "            adjustedIMUData[i] = (\n",
    "                tilde_ax,\n",
    "                tilde_ay,\n",
    "                tilde_az,\n",
    "                tilde_wx,\n",
    "                tilde_wy,\n",
    "                tilde_wz,\n",
    "            )\n",
    "        return adjustedIMUData\n",
    "\n",
    "    def alignData(self, imuTS, imuData, viconTS, viconData):\n",
    "        pass"
   ]
  },
  {
   "cell_type": "code",
   "execution_count": 87,
   "metadata": {},
   "outputs": [
    {
     "name": "stdout",
     "output_type": "stream",
     "text": [
      "array([[1.29663678e+09, 1.29663678e+09, 1.29663678e+09, ...,\n",
      "        1.29663684e+09, 1.29663684e+09, 1.29663684e+09]])\n",
      "array([-5.48151123e+04, -5.35384197e+04,  6.72127665e+04,  7.20652078e-03,\n",
      "        4.09870870e-02, -6.03546116e-02])\n"
     ]
    }
   ],
   "source": [
    "set1 = calculatePose(\n",
    "    \"Phase1/Data/Train/Vicon/viconRot1.mat\",\n",
    "    \"Phase1/Data/Train/IMU/imuRaw1.mat\",\n",
    "    \"Phase1/IMUParams.mat\"\n",
    ")"
   ]
  }
 ],
 "metadata": {
  "kernelspec": {
   "display_name": "Python 3",
   "language": "python",
   "name": "python3"
  },
  "language_info": {
   "codemirror_mode": {
    "name": "ipython",
    "version": 3
   },
   "file_extension": ".py",
   "mimetype": "text/x-python",
   "name": "python",
   "nbconvert_exporter": "python",
   "pygments_lexer": "ipython3",
   "version": "3.10.12"
  }
 },
 "nbformat": 4,
 "nbformat_minor": 2
}
